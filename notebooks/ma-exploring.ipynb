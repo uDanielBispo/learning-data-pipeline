{
 "cells": [
  {
   "cell_type": "markdown",
   "metadata": {},
   "source": [
    "# Reading data from A"
   ]
  },
  {
   "cell_type": "code",
   "execution_count": 2,
   "metadata": {},
   "outputs": [],
   "source": [
    "import json"
   ]
  },
  {
   "cell_type": "code",
   "execution_count": 3,
   "metadata": {},
   "outputs": [],
   "source": [
    "path_json_a = '../data_raw/dados_empresaA.json'"
   ]
  },
  {
   "cell_type": "code",
   "execution_count": 9,
   "metadata": {},
   "outputs": [],
   "source": [
    "with open(path_json_a, 'r') as file:\n",
    "    data_json = json.load(file)\n"
   ]
  },
  {
   "cell_type": "code",
   "execution_count": null,
   "metadata": {},
   "outputs": [],
   "source": []
  },
  {
   "cell_type": "markdown",
   "metadata": {},
   "source": [
    "# Reading data from B"
   ]
  },
  {
   "cell_type": "code",
   "execution_count": 11,
   "metadata": {},
   "outputs": [],
   "source": [
    "import csv"
   ]
  },
  {
   "cell_type": "code",
   "execution_count": 12,
   "metadata": {},
   "outputs": [],
   "source": [
    "path_csv_b = '../data_raw/dados_empresaB.csv'"
   ]
  },
  {
   "cell_type": "code",
   "execution_count": 99,
   "metadata": {},
   "outputs": [],
   "source": [
    "data_csv = []\n",
    "with open(path_csv_b, 'r') as file:\n",
    "    reader = csv.reader(file)\n",
    "    for row in reader:\n",
    "        data_csv.append(row)"
   ]
  },
  {
   "cell_type": "markdown",
   "metadata": {},
   "source": [
    "## Resolvendo problema de nomes de colunas diferentes"
   ]
  },
  {
   "cell_type": "code",
   "execution_count": 15,
   "metadata": {},
   "outputs": [],
   "source": [
    "key_mapping = {'Nome do Item': 'Nome do Produto',\n",
    "                'Classificação do Produto': 'Categoria do Produto',\n",
    "                'Valor em Reais (R$)': 'Preço do Produto (R$)',\n",
    "                'Quantidade em Estoque': 'Quantidade em Estoque',\n",
    "                'Nome da Loja': 'Filial',\n",
    "                'Data da Venda': 'Data da Venda'}"
   ]
  },
  {
   "cell_type": "code",
   "execution_count": null,
   "metadata": {},
   "outputs": [],
   "source": [
    "new_header = []\n",
    "csv_header_fixed = []\n",
    "\n",
    "new_header = [key_mapping.get(row) for row in data_csv[0]]\n",
    "\n",
    "csv_header_fixed.append(new_header)\n",
    "csv_header_fixed.extend(data_csv[1:])\n",
    "\n"
   ]
  },
  {
   "cell_type": "code",
   "execution_count": 105,
   "metadata": {},
   "outputs": [],
   "source": [
    "data_csv = [dict(zip(csv_header_fixed[0], values)) for values in csv_header_fixed[1:]]"
   ]
  },
  {
   "cell_type": "markdown",
   "metadata": {},
   "source": [
    "### Ponto de melhoria - realizar validação do merge de dados"
   ]
  },
  {
   "cell_type": "code",
   "execution_count": 39,
   "metadata": {},
   "outputs": [
    {
     "name": "stdout",
     "output_type": "stream",
     "text": [
      "4446\n",
      "3123\n",
      "1323\n"
     ]
    }
   ],
   "source": [
    "print(len(data_json) + len(data_csv))\n",
    "print(len(data_json))\n",
    "print(len(data_csv))"
   ]
  },
  {
   "cell_type": "code",
   "execution_count": 35,
   "metadata": {},
   "outputs": [
    {
     "data": {
      "text/plain": [
       "{'Nome do Produto': 'Blush em pó',\n",
       " 'Categoria do Produto': 'Eletrodomésticos',\n",
       " 'Preço do Produto (R$)': 79.41,\n",
       " 'Quantidade em Estoque': 7,\n",
       " 'Filial': 'Filial 7'}"
      ]
     },
     "execution_count": 35,
     "metadata": {},
     "output_type": "execute_result"
    }
   ],
   "source": [
    "merged_list = []\n",
    "merged_list.extend(data_json)\n",
    "merged_list.extend(data_csv)"
   ]
  },
  {
   "cell_type": "markdown",
   "metadata": {},
   "source": [
    "### Validações"
   ]
  },
  {
   "cell_type": "code",
   "execution_count": 41,
   "metadata": {},
   "outputs": [
    {
     "name": "stdout",
     "output_type": "stream",
     "text": [
      "{'Nome do Produto': 'Blush em pó', 'Categoria do Produto': 'Eletrodomésticos', 'Preço do Produto (R$)': 79.41, 'Quantidade em Estoque': 7, 'Filial': 'Filial 7'}\n",
      "{'Nome do Produto': 'Blush em pó', 'Categoria do Produto': 'Eletrodomésticos', 'Preço do Produto (R$)': 79.41, 'Quantidade em Estoque': 7, 'Filial': 'Filial 7'}\n"
     ]
    }
   ],
   "source": [
    "print(merged_list[0])\n",
    "print(data_json[0])"
   ]
  },
  {
   "cell_type": "code",
   "execution_count": 42,
   "metadata": {},
   "outputs": [
    {
     "name": "stdout",
     "output_type": "stream",
     "text": [
      "{'Nome do Produto': 'Delineador líquido', 'Categoria do Produto': 'Eletrônicos', 'Preço do Produto (R$)': 64.68, 'Quantidade em Estoque': 48, 'Filial': 'Filial 8'}\n",
      "{'Nome do Produto': 'Delineador líquido', 'Categoria do Produto': 'Eletrônicos', 'Preço do Produto (R$)': 64.68, 'Quantidade em Estoque': 48, 'Filial': 'Filial 8'}\n"
     ]
    }
   ],
   "source": [
    "print(merged_list[3122])\n",
    "print(data_json[len(data_json)-1])"
   ]
  },
  {
   "cell_type": "code",
   "execution_count": 43,
   "metadata": {},
   "outputs": [
    {
     "name": "stdout",
     "output_type": "stream",
     "text": [
      "{'Nome do Produto': 'Lápis de sobrancelha', 'Categoria do Produto': 'Roupas', 'Preço do Produto (R$)': '55.17', 'Quantidade em Estoque': '62', 'Filial': 'Filial 1', 'Data da Venda': '2023-04-13 18:58:06.794203'}\n",
      "{'Nome do Produto': 'Lápis de sobrancelha', 'Categoria do Produto': 'Roupas', 'Preço do Produto (R$)': '55.17', 'Quantidade em Estoque': '62', 'Filial': 'Filial 1', 'Data da Venda': '2023-04-13 18:58:06.794203'}\n"
     ]
    }
   ],
   "source": [
    "print(merged_list[3123])\n",
    "print(data_csv[0])"
   ]
  },
  {
   "cell_type": "code",
   "execution_count": 44,
   "metadata": {},
   "outputs": [
    {
     "name": "stdout",
     "output_type": "stream",
     "text": [
      "{'Nome do Produto': 'Sombra de olhos', 'Categoria do Produto': 'Eletrônicos', 'Preço do Produto (R$)': '41.73', 'Quantidade em Estoque': '5', 'Filial': 'Filial 6', 'Data da Venda': '2022-11-21 18:58:06.794203'}\n",
      "{'Nome do Produto': 'Sombra de olhos', 'Categoria do Produto': 'Eletrônicos', 'Preço do Produto (R$)': '41.73', 'Quantidade em Estoque': '5', 'Filial': 'Filial 6', 'Data da Venda': '2022-11-21 18:58:06.794203'}\n"
     ]
    }
   ],
   "source": [
    "print(merged_list[len(merged_list)-1])\n",
    "print(merged_list[len(merged_list)-1])"
   ]
  },
  {
   "cell_type": "code",
   "execution_count": 46,
   "metadata": {},
   "outputs": [
    {
     "data": {
      "text/plain": [
       "['Nome do Produto',\n",
       " 'Categoria do Produto',\n",
       " 'Preço do Produto (R$)',\n",
       " 'Quantidade em Estoque',\n",
       " 'Filial']"
      ]
     },
     "execution_count": 46,
     "metadata": {},
     "output_type": "execute_result"
    }
   ],
   "source": [
    "column_names = list(merged_list[0].keys())\n",
    "column_names #não possui a coluna \"data da venda\""
   ]
  },
  {
   "cell_type": "code",
   "execution_count": 47,
   "metadata": {},
   "outputs": [
    {
     "data": {
      "text/plain": [
       "['Nome do Produto',\n",
       " 'Categoria do Produto',\n",
       " 'Preço do Produto (R$)',\n",
       " 'Quantidade em Estoque',\n",
       " 'Filial',\n",
       " 'Data da Venda']"
      ]
     },
     "execution_count": 47,
     "metadata": {},
     "output_type": "execute_result"
    }
   ],
   "source": [
    "column_names = list(merged_list[-1].keys())\n",
    "column_names"
   ]
  },
  {
   "cell_type": "markdown",
   "metadata": {},
   "source": [
    "## Criando lista de listas para criar o csv\n",
    "### Ajusta valores nulos para 'Indisponivel'"
   ]
  },
  {
   "cell_type": "code",
   "execution_count": 49,
   "metadata": {},
   "outputs": [
    {
     "data": {
      "text/plain": [
       "['Sombra de olhos',\n",
       " 'Eletrônicos',\n",
       " '41.73',\n",
       " '5',\n",
       " 'Filial 6',\n",
       " '2022-11-21 18:58:06.794203']"
      ]
     },
     "execution_count": 49,
     "metadata": {},
     "output_type": "execute_result"
    }
   ],
   "source": [
    "path_merged_data = '../data_processed/merged_data.csv'\n",
    "\n",
    "merged_data_table = [column_names] #adiciona o cabeçalho na lista final\n",
    "\n",
    "for merged_list_item in merged_list:\n",
    "    row_data = []\n",
    "    for column in column_names:\n",
    "        row_data.append(merged_list_item.get(column, 'Indisponivel')) #cria uma nova lista com os dados corrigidos\n",
    "    merged_data_table.append(row_data) #adiciona todos os dados corrigidos na lista com o cabeçalho correto\n",
    "\n"
   ]
  },
  {
   "cell_type": "code",
   "execution_count": 51,
   "metadata": {},
   "outputs": [],
   "source": [
    "with open(path_merged_data, 'w') as file:\n",
    "    writer = csv.writer(file)\n",
    "    writer.writerows(merged_data_table)"
   ]
  }
 ],
 "metadata": {
  "kernelspec": {
   "display_name": "venv",
   "language": "python",
   "name": "python3"
  },
  "language_info": {
   "codemirror_mode": {
    "name": "ipython",
    "version": 3
   },
   "file_extension": ".py",
   "mimetype": "text/x-python",
   "name": "python",
   "nbconvert_exporter": "python",
   "pygments_lexer": "ipython3",
   "version": "3.10.12"
  }
 },
 "nbformat": 4,
 "nbformat_minor": 2
}
